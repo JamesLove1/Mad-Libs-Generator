{
 "cells": [
  {
   "cell_type": "markdown",
   "metadata": {},
   "source": [
    "Mad-Libs-Generator\n"
   ]
  },
  {
   "cell_type": "code",
   "execution_count": null,
   "metadata": {},
   "outputs": [],
   "source": [
    "\"\"\" Mad Libs Generator\n",
    "----------------------------------------\n",
    "\"\"\"\n",
    "#//Loop back to this point once code finishes\n",
    "loop = 1\n",
    "while (loop < 10):\n",
    "#// All the questions that the program asks the user\n",
    "    noun = input(\"Choose a noun: \")\n",
    "    p_noun = input(\"Choose a plural noun: \")\n",
    "    noun2 = input(\"Choose a noun: \")\n",
    "    place = input(\"Name a place: \")\n",
    "    adjective = input(\"Choose an adjective (Describing word): \")\n",
    "    noun3 = input(\"Choose a noun: \")\n",
    "#// Displays the story based on the users input\n",
    "    print (\"------------------------------------------\")\n",
    "    print (\"Be kind to your\",noun,\"- footed\", p_noun)\n",
    "    print (\"For a duck may be somebody's\", noun2,\",\")\n",
    "    print (\"Be kind to your\",p_noun,\"in\",place)\n",
    "    print (\"Where the weather is always\",adjective,\".\")\n",
    "    print ()\n",
    "    print (\"You may think that is this the\",noun3,\",\")\n",
    "    print (\"Well it is.\")\n",
    "    print (\"------------------------------------------\")\n",
    "#// Loop back to \"loop = 1\"\n",
    "    loop = loop + 1"
   ]
  }
 ],
 "metadata": {
  "interpreter": {
   "hash": "4ce0e62306dd6a5716965d4519ada776f947e6dfc145b604b11307c10277ef29"
  },
  "kernelspec": {
   "display_name": "Python 3.9.5 64-bit",
   "language": "python",
   "name": "python3"
  },
  "language_info": {
   "codemirror_mode": {
    "name": "ipython",
    "version": 3
   },
   "file_extension": ".py",
   "mimetype": "text/x-python",
   "name": "python",
   "nbconvert_exporter": "python",
   "pygments_lexer": "ipython3",
   "version": "3.9.5"
  },
  "orig_nbformat": 4
 },
 "nbformat": 4,
 "nbformat_minor": 2
}
